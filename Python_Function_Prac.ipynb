{
  "nbformat": 4,
  "nbformat_minor": 0,
  "metadata": {
    "colab": {
      "name": "Python-Function_Prac.ipynb",
      "version": "0.3.2",
      "provenance": [],
      "collapsed_sections": [],
      "include_colab_link": true
    },
    "kernelspec": {
      "name": "python3",
      "display_name": "Python 3"
    }
  },
  "cells": [
    {
      "cell_type": "markdown",
      "metadata": {
        "id": "view-in-github",
        "colab_type": "text"
      },
      "source": [
        "<a href=\"https://colab.research.google.com/github/RaviSiddu/Python-Functions/blob/master/Python_Function_Prac.ipynb\" target=\"_parent\"><img src=\"https://colab.research.google.com/assets/colab-badge.svg\" alt=\"Open In Colab\"/></a>"
      ]
    },
    {
      "cell_type": "markdown",
      "metadata": {
        "id": "v7fc-YaUaplz",
        "colab_type": "text"
      },
      "source": [
        "#Python-Functions"
      ]
    },
    {
      "cell_type": "markdown",
      "metadata": {
        "id": "Ovv4nPtZaz3t",
        "colab_type": "text"
      },
      "source": [
        "Intraduction"
      ]
    },
    {
      "cell_type": "code",
      "metadata": {
        "id": "QnW_6TpDa2AI",
        "colab_type": "code",
        "colab": {
          "base_uri": "https://localhost:8080/",
          "height": 34
        },
        "outputId": "7e5ee5d8-5173-4a7b-f440-1599cdf915eb"
      },
      "source": [
        "#python Function\n",
        "def computeHCF(a,b):\n",
        "  \"\"\"\n",
        "  This function is to find out the highest comman factor of the given two numers\n",
        "  \"\"\"\n",
        "  smaller=b if a>b else a\n",
        "  hcf=1\n",
        "  for i in range(1,smaller+1):\n",
        "      if (a%i==0) and (b%i==0):\n",
        "          hcf=i\n",
        "  return hcf\n",
        "num1=6\n",
        "num2=36\n",
        "print(\"the hcf of {0} and {1} is {2}\".format(num1,num2,computeHCF(num1,num2)))\n",
        "    \n",
        "  "
      ],
      "execution_count": 8,
      "outputs": [
        {
          "output_type": "stream",
          "text": [
            "the hcf of 6 and 36 is 6\n"
          ],
          "name": "stdout"
        }
      ]
    },
    {
      "cell_type": "code",
      "metadata": {
        "id": "gCFSWlBfdjKK",
        "colab_type": "code",
        "colab": {
          "base_uri": "https://localhost:8080/",
          "height": 68
        },
        "outputId": "54038b81-3e23-4ed5-ce6b-c45db6202a62"
      },
      "source": [
        "#Python Function \n",
        "global_var=\"this is global variable\"\n",
        "def life_time():\n",
        "  local_var=\"this is local variable\"\n",
        "  print(local_var)\n",
        "  print(global_var)\n",
        "life_time()\n",
        "print(global_var)\n",
        "\n",
        "  "
      ],
      "execution_count": 11,
      "outputs": [
        {
          "output_type": "stream",
          "text": [
            "this is local variable\n",
            "this is global variable\n",
            "this is global variable\n"
          ],
          "name": "stdout"
        }
      ]
    },
    {
      "cell_type": "code",
      "metadata": {
        "id": "cGvRnXpHeaCZ",
        "colab_type": "code",
        "colab": {
          "base_uri": "https://localhost:8080/",
          "height": 34
        },
        "outputId": "d786b189-ddfa-41aa-9668-2b96fe0f5249"
      },
      "source": [
        "#Python Sum\n",
        "def sum(list):\n",
        "  \"\"\"\n",
        "  This Funtion is to find out the sum of list of elements\n",
        "  \"\"\"\n",
        "  _sum=0\n",
        "  for i in list:\n",
        "    _sum+=i\n",
        "  return _sum\n",
        "s=sum([2,3,4,5,6,7,8])\n",
        "print(s)\n"
      ],
      "execution_count": 14,
      "outputs": [
        {
          "output_type": "stream",
          "text": [
            "35\n"
          ],
          "name": "stdout"
        }
      ]
    }
  ]
}