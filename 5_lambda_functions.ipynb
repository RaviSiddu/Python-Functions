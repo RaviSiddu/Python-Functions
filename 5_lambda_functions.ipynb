{
  "nbformat": 4,
  "nbformat_minor": 0,
  "metadata": {
    "colab": {
      "name": "5_lambda_functions.ipynb",
      "version": "0.3.2",
      "provenance": [],
      "include_colab_link": true
    },
    "language_info": {
      "codemirror_mode": {
        "name": "ipython",
        "version": 3
      },
      "file_extension": ".py",
      "mimetype": "text/x-python",
      "name": "python",
      "nbconvert_exporter": "python",
      "pygments_lexer": "ipython3",
      "version": "3.6.1"
    },
    "kernelspec": {
      "display_name": "Python 3",
      "language": "python",
      "name": "python3"
    }
  },
  "cells": [
    {
      "cell_type": "markdown",
      "metadata": {
        "id": "view-in-github",
        "colab_type": "text"
      },
      "source": [
        "<a href=\"https://colab.research.google.com/github/RaviSiddu/Python-Functions/blob/master/5_lambda_functions.ipynb\" target=\"_parent\"><img src=\"https://colab.research.google.com/assets/colab-badge.svg\" alt=\"Open In Colab\"/></a>"
      ]
    },
    {
      "cell_type": "markdown",
      "metadata": {
        "id": "Nq2hCrbwkwI2",
        "colab_type": "text"
      },
      "source": [
        "# Anonymous / Lambda Function"
      ]
    },
    {
      "cell_type": "markdown",
      "metadata": {
        "id": "Tm763xYckwI9",
        "colab_type": "text"
      },
      "source": [
        "In Python, anonymous function is a function that is defined without a name.\n",
        "\n",
        "While normal functions are defined using the def keyword, in Python anonymous functions are defined using the lambda keyword.\n",
        "\n",
        "Lambda functions are used extensively along with built-in functions like filter(), map()"
      ]
    },
    {
      "cell_type": "markdown",
      "metadata": {
        "id": "fgzH1e3NkwJA",
        "colab_type": "text"
      },
      "source": [
        "syntax:\n",
        "    \n",
        "    lambda arguments: expression"
      ]
    },
    {
      "cell_type": "markdown",
      "metadata": {
        "id": "Q-MfN2HvkwJF",
        "colab_type": "text"
      },
      "source": [
        "# Example:"
      ]
    },
    {
      "cell_type": "code",
      "metadata": {
        "id": "Dd2XrO8PkwJH",
        "colab_type": "code",
        "colab": {},
        "outputId": "38c013b8-45f6-447b-e478-55239e8ce6cd"
      },
      "source": [
        "double = lambda x: x*2\n",
        "\n",
        "print(double(5))\n"
      ],
      "execution_count": 0,
      "outputs": [
        {
          "output_type": "stream",
          "text": [
            "10\n"
          ],
          "name": "stdout"
        }
      ]
    },
    {
      "cell_type": "code",
      "metadata": {
        "id": "5HEZ81TWkwJn",
        "colab_type": "code",
        "colab": {},
        "outputId": "7fd0b462-a466-4d62-e06e-4a1c7a254b83"
      },
      "source": [
        "def double(x):\n",
        "    return x * 2\n",
        "\n",
        "print(double(5))\n"
      ],
      "execution_count": 0,
      "outputs": [
        {
          "output_type": "stream",
          "text": [
            "10\n"
          ],
          "name": "stdout"
        }
      ]
    },
    {
      "cell_type": "code",
      "metadata": {
        "id": "ViDfkOI8kwJ5",
        "colab_type": "code",
        "colab": {},
        "outputId": "f5a71114-c025-4e3e-eb8a-ded1176b16cb"
      },
      "source": [
        "#Example use with filter()\n",
        "lst = [1, 2, 3, 4, 5]\n",
        "even_lst = list(filter(lambda x: (x%2 == 0), lst))\n",
        "print(even_lst)\n"
      ],
      "execution_count": 0,
      "outputs": [
        {
          "output_type": "stream",
          "text": [
            "[2, 4]\n"
          ],
          "name": "stdout"
        }
      ]
    },
    {
      "cell_type": "code",
      "metadata": {
        "id": "RHLtwek4kwKQ",
        "colab_type": "code",
        "colab": {},
        "outputId": "49334ce8-ee76-4997-ffff-c9be4c2674d5"
      },
      "source": [
        "#Example use with map()\n",
        "lst = [1, 2, 3, 4, 5]\n",
        "new_lst = list(map(lambda x: x ** 2, lst))\n",
        "print(new_lst)\n"
      ],
      "execution_count": 0,
      "outputs": [
        {
          "output_type": "stream",
          "text": [
            "[1, 4, 9, 16, 25]\n"
          ],
          "name": "stdout"
        }
      ]
    },
    {
      "cell_type": "code",
      "metadata": {
        "id": "IIpp13jmkwKg",
        "colab_type": "code",
        "colab": {},
        "outputId": "ac7cf966-90b2-46b9-919e-e8ea7b7c6344"
      },
      "source": [
        "#Example use with reduce()\n",
        "from functools import reduce\n",
        "\n",
        "lst = [1, 2, 3, 4, 5]\n",
        "product_lst = reduce(lambda x, y: x*y, lst)\n",
        "print(product_lst)\n"
      ],
      "execution_count": 0,
      "outputs": [
        {
          "output_type": "stream",
          "text": [
            "120\n"
          ],
          "name": "stdout"
        }
      ]
    },
    {
      "cell_type": "code",
      "metadata": {
        "collapsed": true,
        "id": "5JFndr7kkwK8",
        "colab_type": "code",
        "colab": {}
      },
      "source": [
        ""
      ],
      "execution_count": 0,
      "outputs": []
    }
  ]
}