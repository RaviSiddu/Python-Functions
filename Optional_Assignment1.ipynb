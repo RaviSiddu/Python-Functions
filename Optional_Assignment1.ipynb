{
  "nbformat": 4,
  "nbformat_minor": 0,
  "metadata": {
    "colab": {
      "name": "Optional Assignment1.ipynb",
      "version": "0.3.2",
      "provenance": [],
      "collapsed_sections": [],
      "include_colab_link": true
    },
    "kernelspec": {
      "name": "python3",
      "display_name": "Python 3"
    },
    "accelerator": "GPU"
  },
  "cells": [
    {
      "cell_type": "markdown",
      "metadata": {
        "id": "view-in-github",
        "colab_type": "text"
      },
      "source": [
        "<a href=\"https://colab.research.google.com/github/RaviSiddu/Python-Functions/blob/master/Optional_Assignment1.ipynb\" target=\"_parent\"><img src=\"https://colab.research.google.com/assets/colab-badge.svg\" alt=\"Open In Colab\"/></a>"
      ]
    },
    {
      "cell_type": "markdown",
      "metadata": {
        "id": "xJcK_ETJwuwv",
        "colab_type": "text"
      },
      "source": [
        "#Assignment on Functions"
      ]
    },
    {
      "cell_type": "markdown",
      "metadata": {
        "id": "VnbvMTKFw363",
        "colab_type": "text"
      },
      "source": [
        "1.Write a function that inputs a number and prints the multiplication table of that number"
      ]
    },
    {
      "cell_type": "code",
      "metadata": {
        "id": "v7or6vyGw9p7",
        "colab_type": "code",
        "colab": {
          "base_uri": "https://localhost:8080/",
          "height": 374
        },
        "outputId": "c8b5deb5-48b7-4cf0-dc12-fee42787a359"
      },
      "source": [
        "import pdb\n",
        "def multiplication_table(num):\n",
        "  \"\"\"\n",
        "  This function returns the multiplication table of given number\n",
        "  \"\"\"\n",
        "  for i in range(1, 21):\n",
        "    pdb.set_trace() #break point\n",
        "    print(num,\"X\",i,\"=\",num*i)\n",
        "         \n",
        "number=int(input(\"enter the number\"))\n",
        "multiplication_table(number)\n",
        "\n",
        "\n"
      ],
      "execution_count": 21,
      "outputs": [
        {
          "output_type": "stream",
          "text": [
            "enter the number5\n",
            "5 X 1 = 5\n",
            "5 X 2 = 10\n",
            "5 X 3 = 15\n",
            "5 X 4 = 20\n",
            "5 X 5 = 25\n",
            "5 X 6 = 30\n",
            "5 X 7 = 35\n",
            "5 X 8 = 40\n",
            "5 X 9 = 45\n",
            "5 X 10 = 50\n",
            "5 X 11 = 55\n",
            "5 X 12 = 60\n",
            "5 X 13 = 65\n",
            "5 X 14 = 70\n",
            "5 X 15 = 75\n",
            "5 X 16 = 80\n",
            "5 X 17 = 85\n",
            "5 X 18 = 90\n",
            "5 X 19 = 95\n",
            "5 X 20 = 100\n"
          ],
          "name": "stdout"
        }
      ]
    },
    {
      "cell_type": "markdown",
      "metadata": {
        "id": "zQpqCJAt2sH3",
        "colab_type": "text"
      },
      "source": [
        "2.Write a program to print twin primes less than 1000\n"
      ]
    },
    {
      "cell_type": "code",
      "metadata": {
        "id": "9k8bvJGp6Sk_",
        "colab_type": "code",
        "colab": {
          "base_uri": "https://localhost:8080/",
          "height": 612
        },
        "outputId": "87d282d8-75cb-4ff9-85bd-5d8270f9fe95"
      },
      "source": [
        "def is_prime(num):\n",
        "  \"\"\"\n",
        "  This function returns if the given number is prime are not\n",
        "  \"\"\"\n",
        "  for i in range(2,num):\n",
        "    if num%i==0:\n",
        "      return False\n",
        "  return True\n",
        "\n",
        "def generate_twins(start,end):\n",
        "  \"\"\"\n",
        "  This function generates the twin numbers less than 1000\n",
        "  \"\"\"\n",
        "  for i in range(start,end):\n",
        "    j=i+2\n",
        "    if(is_prime(i)and(is_prime(j))):\n",
        "      print(\"the twin primes are {0} and {1}\".format(i,j))\n",
        "\n",
        "generate_twins(2,1000)\n",
        "  \n"
      ],
      "execution_count": 24,
      "outputs": [
        {
          "output_type": "stream",
          "text": [
            "the twin primes are 3 and 5\n",
            "the twin primes are 5 and 7\n",
            "the twin primes are 11 and 13\n",
            "the twin primes are 17 and 19\n",
            "the twin primes are 29 and 31\n",
            "the twin primes are 41 and 43\n",
            "the twin primes are 59 and 61\n",
            "the twin primes are 71 and 73\n",
            "the twin primes are 101 and 103\n",
            "the twin primes are 107 and 109\n",
            "the twin primes are 137 and 139\n",
            "the twin primes are 149 and 151\n",
            "the twin primes are 179 and 181\n",
            "the twin primes are 191 and 193\n",
            "the twin primes are 197 and 199\n",
            "the twin primes are 227 and 229\n",
            "the twin primes are 239 and 241\n",
            "the twin primes are 269 and 271\n",
            "the twin primes are 281 and 283\n",
            "the twin primes are 311 and 313\n",
            "the twin primes are 347 and 349\n",
            "the twin primes are 419 and 421\n",
            "the twin primes are 431 and 433\n",
            "the twin primes are 461 and 463\n",
            "the twin primes are 521 and 523\n",
            "the twin primes are 569 and 571\n",
            "the twin primes are 599 and 601\n",
            "the twin primes are 617 and 619\n",
            "the twin primes are 641 and 643\n",
            "the twin primes are 659 and 661\n",
            "the twin primes are 809 and 811\n",
            "the twin primes are 821 and 823\n",
            "the twin primes are 827 and 829\n",
            "the twin primes are 857 and 859\n",
            "the twin primes are 881 and 883\n"
          ],
          "name": "stdout"
        }
      ]
    },
    {
      "cell_type": "markdown",
      "metadata": {
        "id": "IWgAQCma9QoC",
        "colab_type": "text"
      },
      "source": [
        "2.Write a program to find out the prime factors of a number."
      ]
    },
    {
      "cell_type": "code",
      "metadata": {
        "id": "W9GM-mhc9Xz_",
        "colab_type": "code",
        "colab": {
          "base_uri": "https://localhost:8080/",
          "height": 51
        },
        "outputId": "fd0ac674-0441-4016-ee9a-f9762f498400"
      },
      "source": [
        "def prime_factors(n):\n",
        "  \"\"\"\n",
        "  This function finds the prime factors of a given number\n",
        "  \"\"\"\n",
        "  \n",
        "  list_of_factors=[]\n",
        "  i=2\n",
        "  while n>1:\n",
        "    if n%i==0:\n",
        "      list_of_factors.append(i)\n",
        "      n=n/i\n",
        "      i=i-1\n",
        "    i+=1  \n",
        "  return list_of_factors\n",
        "n=int(input(\"enter the number\"))\n",
        "prime_factors(n)\n",
        "   "
      ],
      "execution_count": 35,
      "outputs": [
        {
          "output_type": "stream",
          "text": [
            "enter the number6\n"
          ],
          "name": "stdout"
        },
        {
          "output_type": "execute_result",
          "data": {
            "text/plain": [
              "[2, 3]"
            ]
          },
          "metadata": {
            "tags": []
          },
          "execution_count": 35
        }
      ]
    },
    {
      "cell_type": "markdown",
      "metadata": {
        "id": "BmoSMPaORe86",
        "colab_type": "text"
      },
      "source": [
        "4.Write a program to implement these formulae of permutations and combinations.\n",
        "Number of permutations of n objects taken r at a time: p(n, r) = n! / (n-r)!. Number of\n",
        "combinations of n objects taken r at a time is: c(n, r) = n! / (r!*(n-r)!) = p(n,r) / r!"
      ]
    },
    {
      "cell_type": "code",
      "metadata": {
        "id": "4Bh8ujhXRnMP",
        "colab_type": "code",
        "colab": {
          "base_uri": "https://localhost:8080/",
          "height": 68
        },
        "outputId": "00e5db42-39d9-47f8-dbee-5de26fc78b0c"
      },
      "source": [
        "#Number of permutations of n objects taken r at a time\n",
        "def factorial(n):\n",
        "  \"\"\"\n",
        "  This function returns the factorial of a numebr\n",
        "  \"\"\"\n",
        "  return 1 if n==1 else (n*factorial(n-1))\n",
        "def npr(n,r):\n",
        "  \"\"\"\n",
        "  This function return the Number of permutations of n objects taken r at a time\n",
        "  \"\"\"\n",
        "  pnr=factorial(n)/factorial(n-r)\n",
        "  return pnr\n",
        "num1=int(input(\"enter the number of object\"))\n",
        "num2=int(input(\"enter the no of objects taken at a time\"))\n",
        "npr(num1,num2)\n",
        "\n",
        "  "
      ],
      "execution_count": 40,
      "outputs": [
        {
          "output_type": "stream",
          "text": [
            "enter the number of object5\n",
            "enter the no of objects taken at a time3\n"
          ],
          "name": "stdout"
        },
        {
          "output_type": "execute_result",
          "data": {
            "text/plain": [
              "60.0"
            ]
          },
          "metadata": {
            "tags": []
          },
          "execution_count": 40
        }
      ]
    },
    {
      "cell_type": "code",
      "metadata": {
        "id": "NfX7FHphTKrh",
        "colab_type": "code",
        "colab": {
          "base_uri": "https://localhost:8080/",
          "height": 68
        },
        "outputId": "093c3eb4-f25b-4e0f-bea2-bcd88042879e"
      },
      "source": [
        "#Number of combinations of n objects taken r at a time\n",
        "def factorial(n):\n",
        "  \"\"\"\n",
        "  This function returns the factorial of a numebr\n",
        "  \"\"\"\n",
        "  return 1 if n==1 else (n*factorial(n-1))\n",
        "def ncr(n,r):\n",
        "  \"\"\"\n",
        "  This function returns Number of combinations of n objects taken r at a time\n",
        "  \"\"\"\n",
        "  pnr=factorial(n)/(factorial(r)*factorial(n-r))\n",
        "  return pnr\n",
        "num1=int(input(\"enter the number of object\"))\n",
        "num2=int(input(\"enter the no of objects taken at a time\"))\n",
        "ncr(num1,num2)\n",
        "\n"
      ],
      "execution_count": 43,
      "outputs": [
        {
          "output_type": "stream",
          "text": [
            "enter the number of object5\n",
            "enter the no of objects taken at a time3\n"
          ],
          "name": "stdout"
        },
        {
          "output_type": "execute_result",
          "data": {
            "text/plain": [
              "10.0"
            ]
          },
          "metadata": {
            "tags": []
          },
          "execution_count": 43
        }
      ]
    },
    {
      "cell_type": "markdown",
      "metadata": {
        "id": "78xIapauVfSl",
        "colab_type": "text"
      },
      "source": [
        "5.Write a function that converts a decimal number to binary number"
      ]
    },
    {
      "cell_type": "code",
      "metadata": {
        "id": "ai_yfqmfVkgU",
        "colab_type": "code",
        "colab": {
          "base_uri": "https://localhost:8080/",
          "height": 51
        },
        "outputId": "780c6c6e-eb7e-4cab-ab97-26e2d6766afc"
      },
      "source": [
        "def decimalToBinary(num):\n",
        "    \"\"\"This function converts decimal number\n",
        "    to binary and prints it\"\"\"\n",
        "    if num > 1:\n",
        "        decimalToBinary(num // 2)\n",
        "    print(num % 2, end='')\n",
        "\n",
        "\n",
        "# decimal number\n",
        "number = int(input(\"Enter any decimal number: \"))\n",
        "\n",
        "decimalToBinary(number)"
      ],
      "execution_count": 44,
      "outputs": [
        {
          "output_type": "stream",
          "text": [
            "Enter any decimal number: 10\n",
            "1010"
          ],
          "name": "stdout"
        }
      ]
    },
    {
      "cell_type": "markdown",
      "metadata": {
        "id": "qZBb1ccdXAsf",
        "colab_type": "text"
      },
      "source": [
        "6.Write a function cubesum() that accepts an integer and returns the sum of the cubes of\n",
        "individual digits of that number. Use this function to make functions PrintArmstrong() and\n",
        "isArmstrong() to print Armstrong numbers and to find whether is an Armstrong number."
      ]
    },
    {
      "cell_type": "code",
      "metadata": {
        "id": "joWehEgtXbqQ",
        "colab_type": "code",
        "colab": {
          "base_uri": "https://localhost:8080/",
          "height": 51
        },
        "outputId": "9fdab4ac-7047-414c-c89c-563a700bf1fb"
      },
      "source": [
        "\n",
        "\n",
        "def cubesum(num):\n",
        "  \"\"\"\n",
        "  This function returns the cube sum of the individual digits\n",
        "  \"\"\"\n",
        "  sum=0\n",
        "  temp = num\n",
        "  while temp > 0:\n",
        "    \n",
        "    digit = temp % 10\n",
        "    sum += digit ** 3\n",
        "    temp //= 10\n",
        "  return sum\n",
        "\n",
        "def isArmstrong(x):\n",
        "  \"\"\"\n",
        "  This function returns is the given number is armstromg \n",
        "  \"\"\"\n",
        "  n=cubesum(x)\n",
        "  return n\n",
        "  \n",
        "def printArmStrong(number):\n",
        "  \"\"\"\n",
        "  This function print the armstrong number are not\n",
        "  \"\"\"\n",
        "  if number==isArmstrong(number):\n",
        "    print(\"the given number is armstrong\")\n",
        "  else:\n",
        "    print(\"the given number is not armstrong\")\n",
        "number=int(input(\"enter the number:\"))\n",
        "printArmStrong(number)\n",
        "   "
      ],
      "execution_count": 57,
      "outputs": [
        {
          "output_type": "stream",
          "text": [
            "enter the number:153\n",
            "the given number is armstrong\n"
          ],
          "name": "stdout"
        }
      ]
    },
    {
      "cell_type": "markdown",
      "metadata": {
        "id": "WbCWX1kodAdW",
        "colab_type": "text"
      },
      "source": [
        "7.Write a function prodDigits() that inputs a number and returns the product of digits of that\n",
        "number.\n"
      ]
    },
    {
      "cell_type": "code",
      "metadata": {
        "id": "ILnIcjxgdIGO",
        "colab_type": "code",
        "colab": {
          "base_uri": "https://localhost:8080/",
          "height": 51
        },
        "outputId": "1fb94234-3259-4fdf-f469-a008d1cb50b3"
      },
      "source": [
        "def prodDigits(num):\n",
        "  \"\"\"\n",
        "  This function returns the product of digits of that number\n",
        "  \"\"\"\n",
        "  product=1\n",
        "  temp = num\n",
        "  while temp > 0:\n",
        "    \n",
        "    digit = temp % 10\n",
        "    product *= digit\n",
        "    temp //= 10\n",
        "  return product\n",
        "number=int(input(\"enter the number\"))\n",
        "prodDigits(number)  \n",
        "  "
      ],
      "execution_count": 59,
      "outputs": [
        {
          "output_type": "stream",
          "text": [
            "enter the number23\n"
          ],
          "name": "stdout"
        },
        {
          "output_type": "execute_result",
          "data": {
            "text/plain": [
              "6"
            ]
          },
          "metadata": {
            "tags": []
          },
          "execution_count": 59
        }
      ]
    },
    {
      "cell_type": "markdown",
      "metadata": {
        "id": "pW34WNSOeLJW",
        "colab_type": "text"
      },
      "source": [
        "8.If all digits of a number n are multiplied by each other repeating with the product, the one\n",
        "digit number obtained at last is called the multiplicative digital root of n. The number of\n",
        "times digits need to be multiplied to reach one digit is called the multiplicative\n",
        "persistance of n.\n",
        "Example: 86 -> 48 -> 32 -> 6 (MDR 6, MPersistence 3)\n",
        "341 -> 12->2 (MDR 2, MPersistence 2)\n",
        "Using the function prodDigits() of previous exercise write functions MDR() and\n",
        "MPersistence() that input a number and return its multiplicative digital root and\n",
        "multiplicative persistence respectively"
      ]
    },
    {
      "cell_type": "code",
      "metadata": {
        "id": "to4AB7EpgCML",
        "colab_type": "code",
        "colab": {
          "base_uri": "https://localhost:8080/",
          "height": 51
        },
        "outputId": "ae474792-4aa4-41fc-a329-06dfaa912664"
      },
      "source": [
        "\n",
        "def MDR(number2):\n",
        "  n=prodDigits(number2)\n",
        "  return prodDigits(number2)\n",
        "def MPersistence(num, count=0):\n",
        "  while num >= 10:\n",
        "        num = MDR(prodDigits(num))\n",
        "        count += 1\n",
        "        return MPersistence(num, count)\n",
        "  if num < 10:\n",
        "        return count\n",
        "num=int(input(\"enter the number\"))\n",
        "MPersistence(num)"
      ],
      "execution_count": 70,
      "outputs": [
        {
          "output_type": "stream",
          "text": [
            "enter the number86\n"
          ],
          "name": "stdout"
        },
        {
          "output_type": "execute_result",
          "data": {
            "text/plain": [
              "2"
            ]
          },
          "metadata": {
            "tags": []
          },
          "execution_count": 70
        }
      ]
    },
    {
      "cell_type": "markdown",
      "metadata": {
        "id": "a9f4NCBQnrx-",
        "colab_type": "text"
      },
      "source": [
        "9.Write a function sumPdivisors() that finds the sum of proper divisors of a number. Proper\n",
        "divisors of a number are those numbers by which the number is divisible, except the\n",
        "number itself. For example proper divisors of 36 are 1, 2, 3, 4, 6, 9, 18"
      ]
    },
    {
      "cell_type": "code",
      "metadata": {
        "id": "wiTCbhC3nwPx",
        "colab_type": "code",
        "colab": {
          "base_uri": "https://localhost:8080/",
          "height": 367
        },
        "outputId": "2584e79e-1fca-47b2-d4b9-c0fb5a523612"
      },
      "source": [
        "from math import sqrt\n",
        "def sumPdivisors(num):\n",
        "  \"\"\"\n",
        "  This function retruns the sum of proper divisors of a number\n",
        "  \"\"\"\n",
        "  sum=0\n",
        "  i=2\n",
        "  while i<=(sqrt(num)):\n",
        "    if(num%i==0):\n",
        "      if(i==(num/i)):\n",
        "        sum=sum+i\n",
        "      else:\n",
        "        sum=sum+(i+num/i)\n",
        "  return sum+1\n",
        "num=int(input(\"enter the number\"))\n",
        "sumPdivisors(num)\n",
        "         \n",
        "        \n",
        "     "
      ],
      "execution_count": 9,
      "outputs": [
        {
          "output_type": "stream",
          "text": [
            "enter the number36\n"
          ],
          "name": "stdout"
        },
        {
          "output_type": "error",
          "ename": "KeyboardInterrupt",
          "evalue": "ignored",
          "traceback": [
            "\u001b[0;31m---------------------------------------------------------------------------\u001b[0m",
            "\u001b[0;31mKeyboardInterrupt\u001b[0m                         Traceback (most recent call last)",
            "\u001b[0;32m<ipython-input-9-f792488420ab>\u001b[0m in \u001b[0;36m<module>\u001b[0;34m()\u001b[0m\n\u001b[1;32m     11\u001b[0m   \u001b[0;32mreturn\u001b[0m \u001b[0mresult\u001b[0m\u001b[0;34m+\u001b[0m\u001b[0;36m1\u001b[0m\u001b[0;34m\u001b[0m\u001b[0;34m\u001b[0m\u001b[0m\n\u001b[1;32m     12\u001b[0m \u001b[0mnum\u001b[0m\u001b[0;34m=\u001b[0m\u001b[0mint\u001b[0m\u001b[0;34m(\u001b[0m\u001b[0minput\u001b[0m\u001b[0;34m(\u001b[0m\u001b[0;34m\"enter the number\"\u001b[0m\u001b[0;34m)\u001b[0m\u001b[0;34m)\u001b[0m\u001b[0;34m\u001b[0m\u001b[0;34m\u001b[0m\u001b[0m\n\u001b[0;32m---> 13\u001b[0;31m \u001b[0msumPdivisors\u001b[0m\u001b[0;34m(\u001b[0m\u001b[0mnum\u001b[0m\u001b[0;34m)\u001b[0m\u001b[0;34m\u001b[0m\u001b[0;34m\u001b[0m\u001b[0m\n\u001b[0m\u001b[1;32m     14\u001b[0m \u001b[0;34m\u001b[0m\u001b[0m\n\u001b[1;32m     15\u001b[0m \u001b[0;34m\u001b[0m\u001b[0m\n",
            "\u001b[0;32m<ipython-input-9-f792488420ab>\u001b[0m in \u001b[0;36msumPdivisors\u001b[0;34m(num)\u001b[0m\n\u001b[1;32m      5\u001b[0m   \u001b[0;32mwhile\u001b[0m \u001b[0mi\u001b[0m\u001b[0;34m<=\u001b[0m\u001b[0;34m(\u001b[0m\u001b[0msqrt\u001b[0m\u001b[0;34m(\u001b[0m\u001b[0mnum\u001b[0m\u001b[0;34m)\u001b[0m\u001b[0;34m)\u001b[0m\u001b[0;34m:\u001b[0m\u001b[0;34m\u001b[0m\u001b[0;34m\u001b[0m\u001b[0m\n\u001b[1;32m      6\u001b[0m     \u001b[0;32mif\u001b[0m\u001b[0;34m(\u001b[0m\u001b[0mnum\u001b[0m\u001b[0;34m%\u001b[0m\u001b[0mi\u001b[0m\u001b[0;34m==\u001b[0m\u001b[0;36m0\u001b[0m\u001b[0;34m)\u001b[0m\u001b[0;34m:\u001b[0m\u001b[0;34m\u001b[0m\u001b[0;34m\u001b[0m\u001b[0m\n\u001b[0;32m----> 7\u001b[0;31m       \u001b[0;32mif\u001b[0m\u001b[0;34m(\u001b[0m\u001b[0mi\u001b[0m\u001b[0;34m==\u001b[0m\u001b[0;34m(\u001b[0m\u001b[0mnum\u001b[0m\u001b[0;34m/\u001b[0m\u001b[0mi\u001b[0m\u001b[0;34m)\u001b[0m\u001b[0;34m)\u001b[0m\u001b[0;34m:\u001b[0m\u001b[0;34m\u001b[0m\u001b[0;34m\u001b[0m\u001b[0m\n\u001b[0m\u001b[1;32m      8\u001b[0m         \u001b[0mresult\u001b[0m\u001b[0;34m=\u001b[0m\u001b[0mresult\u001b[0m\u001b[0;34m+\u001b[0m\u001b[0mi\u001b[0m\u001b[0;34m\u001b[0m\u001b[0;34m\u001b[0m\u001b[0m\n\u001b[1;32m      9\u001b[0m       \u001b[0;32melse\u001b[0m\u001b[0;34m:\u001b[0m\u001b[0;34m\u001b[0m\u001b[0;34m\u001b[0m\u001b[0m\n",
            "\u001b[0;31mKeyboardInterrupt\u001b[0m: "
          ]
        }
      ]
    },
    {
      "cell_type": "markdown",
      "metadata": {
        "id": "dfpHeN-usPSJ",
        "colab_type": "text"
      },
      "source": [
        "10. A number is called perfect if the sum of proper divisors of that number is equal to the\n",
        "number. For example 28 is perfect number, since 1+2+4+7+14=28. Write a program to\n",
        "print all the perfect numbers in a given range"
      ]
    },
    {
      "cell_type": "code",
      "metadata": {
        "id": "iAFh-GIJsUxi",
        "colab_type": "code",
        "colab": {
          "base_uri": "https://localhost:8080/",
          "height": 85
        },
        "outputId": "cf468034-9d13-4bb2-a77c-664014147cf5"
      },
      "source": [
        "\n",
        "def perfect(x,y):\n",
        "  \"\"\"\n",
        "  This function reurns the all the perfect numbers in a given range\n",
        "  \"\"\"\n",
        "    for each in range(x,y+1):\n",
        "        half = each//2\n",
        "        summ=1\n",
        "        for i in range(2,half+1):\n",
        "            if (each%i)==0:\n",
        "                summ+=i\n",
        "        if summ==each:\n",
        "        \n",
        "            print(each,end=\" \")\n",
        "x = int(input(\"Enter x: \"))\n",
        "y = int(input(\"\\nEnter y: \"))\n",
        " \n",
        "perfect(x,y)"
      ],
      "execution_count": 12,
      "outputs": [
        {
          "output_type": "stream",
          "text": [
            "Enter x: 1\n",
            "\n",
            "Enter y: 100\n",
            "1 6 28 "
          ],
          "name": "stdout"
        }
      ]
    },
    {
      "cell_type": "markdown",
      "metadata": {
        "id": "4lAy2pEWtshk",
        "colab_type": "text"
      },
      "source": [
        "11.Write a function to print pairs of amicable numbers in a range"
      ]
    },
    {
      "cell_type": "code",
      "metadata": {
        "id": "UhSm1yZyvpUA",
        "colab_type": "code",
        "colab": {
          "base_uri": "https://localhost:8080/",
          "height": 85
        },
        "outputId": "0c4890bc-adee-4c41-90c7-b5d895d39e4e"
      },
      "source": [
        "def sumOfDiv(x): \n",
        "    sum = 1\n",
        "    for i in range(2, x): \n",
        "        if x % i == 0: \n",
        "            sum += i \n",
        "    return sum\n",
        "  \n",
        "# Check if pair is amicable \n",
        "def isAmicable(a, b):   \n",
        "  for i in range(a,b+1):\n",
        "    if sumOfDiv(a) == b and sumOfDiv(b) == a:\n",
        "      print(list(a,b))\n",
        "        \n",
        "    else:\n",
        "      return \"none\"\n",
        "a=int(input(\"enter the number:\"))\n",
        "b=int(input(\"\\nenter the number2:\"))\n",
        "isAmicable(a,b)"
      ],
      "execution_count": 15,
      "outputs": [
        {
          "output_type": "stream",
          "text": [
            "enter the number:1\n",
            "\n",
            "enter the number2:200\n"
          ],
          "name": "stdout"
        },
        {
          "output_type": "execute_result",
          "data": {
            "text/plain": [
              "'none'"
            ]
          },
          "metadata": {
            "tags": []
          },
          "execution_count": 15
        }
      ]
    },
    {
      "cell_type": "markdown",
      "metadata": {
        "id": "wlo3qyF8qlKP",
        "colab_type": "text"
      },
      "source": [
        "12. Write a program which can filter odd numbers in a list by using filter function"
      ]
    },
    {
      "cell_type": "code",
      "metadata": {
        "id": "AXIXrNykqw0i",
        "colab_type": "code",
        "colab": {
          "base_uri": "https://localhost:8080/",
          "height": 34
        },
        "outputId": "0d465464-3cda-40c0-eebb-a043b4d16754"
      },
      "source": [
        "lis=[1,2,3,4,5,6,7,8]\n",
        "eve_list=list(filter(lambda x:(x%2!=0),lis))\n",
        "print(eve_list)"
      ],
      "execution_count": 2,
      "outputs": [
        {
          "output_type": "stream",
          "text": [
            "[1, 3, 5, 7]\n"
          ],
          "name": "stdout"
        }
      ]
    },
    {
      "cell_type": "markdown",
      "metadata": {
        "id": "nNhTYgxkrfOl",
        "colab_type": "text"
      },
      "source": [
        "13. Write a program which can map() to make a list whose elements are cube of elements in\n",
        "a given list"
      ]
    },
    {
      "cell_type": "code",
      "metadata": {
        "id": "RLNi3HqXrk4_",
        "colab_type": "code",
        "colab": {
          "base_uri": "https://localhost:8080/",
          "height": 34
        },
        "outputId": "c3d446c3-a0fc-4a86-8625-4ea54cf02cab"
      },
      "source": [
        "lis=[1,2,3,4,5,6,7,8]\n",
        "cube_ele=list(map(lambda x:(x*x*x),lis))\n",
        "print(cube_ele)"
      ],
      "execution_count": 3,
      "outputs": [
        {
          "output_type": "stream",
          "text": [
            "[1, 8, 27, 64, 125, 216, 343, 512]\n"
          ],
          "name": "stdout"
        }
      ]
    },
    {
      "cell_type": "markdown",
      "metadata": {
        "id": "4UKDwAB8r6kC",
        "colab_type": "text"
      },
      "source": [
        "14.Write a program which can map() and filter() to make a list whose elements are cube of\n",
        "even number in a given list"
      ]
    },
    {
      "cell_type": "code",
      "metadata": {
        "id": "-etBs-NZsAPj",
        "colab_type": "code",
        "colab": {
          "base_uri": "https://localhost:8080/",
          "height": 51
        },
        "outputId": "f5331c27-8286-45c1-816d-b43ea3870de7"
      },
      "source": [
        "lis=[1,2,3,4,5,6,7,8]\n",
        "even_list=list(filter(lambda x:(x%2==0),lis))\n",
        "print(even_list)\n",
        "cube_even_list=list(map(lambda x:(x*x*x),even_list))\n",
        "print(cube_even_list)"
      ],
      "execution_count": 5,
      "outputs": [
        {
          "output_type": "stream",
          "text": [
            "[2, 4, 6, 8]\n",
            "[8, 64, 216, 512]\n"
          ],
          "name": "stdout"
        }
      ]
    }
  ]
}